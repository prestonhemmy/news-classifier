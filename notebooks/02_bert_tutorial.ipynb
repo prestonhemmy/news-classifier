{
 "cells": [
  {
   "metadata": {
    "ExecuteTime": {
     "end_time": "2025-09-01T21:10:33.641072Z",
     "start_time": "2025-09-01T21:10:31.587588Z"
    }
   },
   "cell_type": "code",
   "outputs": [
    {
     "name": "stderr",
     "output_type": "stream",
     "text": [
      "C:\\Projects\\news-classifier\\.venv\\Lib\\site-packages\\tqdm\\auto.py:21: TqdmWarning: IProgress not found. Please update jupyter and ipywidgets. See https://ipywidgets.readthedocs.io/en/stable/user_install.html\n",
      "  from .autonotebook import tqdm as notebook_tqdm\n"
     ]
    }
   ],
   "execution_count": 4,
   "source": [
    "import numpy as np\n",
    "import torch\n",
    "\n",
    "RANDOM_SEED = 42\n",
    "np.random.seed(RANDOM_SEED)\n",
    "torch.manual_seed(RANDOM_SEED)\n",
    "device = torch.device('cuda' if torch.cuda.is_available() else 'cpu')"
   ],
   "id": "46f299b78c180a68"
  },
  {
   "metadata": {},
   "cell_type": "markdown",
   "source": "### Data Exploration:",
   "id": "fcb5a7c6f81dbaab"
  },
  {
   "metadata": {
    "ExecuteTime": {
     "end_time": "2025-09-01T21:10:36.173593Z",
     "start_time": "2025-09-01T21:10:35.907713Z"
    }
   },
   "cell_type": "code",
   "source": [
    "import pandas as pd\n",
    "\n",
    "df = pd.read_csv('../data/raw/train.csv')\n",
    "df.head()                       # returns the first 5 rows of pandas DataFrame 'df'"
   ],
   "id": "2c93347d53adb72",
   "outputs": [
    {
     "data": {
      "text/plain": [
       "   Class Index                                              Title  \\\n",
       "0            3  Wall St. Bears Claw Back Into the Black (Reuters)   \n",
       "1            3  Carlyle Looks Toward Commercial Aerospace (Reu...   \n",
       "2            3    Oil and Economy Cloud Stocks' Outlook (Reuters)   \n",
       "3            3  Iraq Halts Oil Exports from Main Southern Pipe...   \n",
       "4            3  Oil prices soar to all-time record, posing new...   \n",
       "\n",
       "                                         Description  \n",
       "0  Reuters - Short-sellers, Wall Street's dwindli...  \n",
       "1  Reuters - Private investment firm Carlyle Grou...  \n",
       "2  Reuters - Soaring crude prices plus worries\\ab...  \n",
       "3  Reuters - Authorities have halted oil export\\f...  \n",
       "4  AFP - Tearaway world oil prices, toppling reco...  "
      ],
      "text/html": [
       "<div>\n",
       "<style scoped>\n",
       "    .dataframe tbody tr th:only-of-type {\n",
       "        vertical-align: middle;\n",
       "    }\n",
       "\n",
       "    .dataframe tbody tr th {\n",
       "        vertical-align: top;\n",
       "    }\n",
       "\n",
       "    .dataframe thead th {\n",
       "        text-align: right;\n",
       "    }\n",
       "</style>\n",
       "<table border=\"1\" class=\"dataframe\">\n",
       "  <thead>\n",
       "    <tr style=\"text-align: right;\">\n",
       "      <th></th>\n",
       "      <th>Class Index</th>\n",
       "      <th>Title</th>\n",
       "      <th>Description</th>\n",
       "    </tr>\n",
       "  </thead>\n",
       "  <tbody>\n",
       "    <tr>\n",
       "      <th>0</th>\n",
       "      <td>3</td>\n",
       "      <td>Wall St. Bears Claw Back Into the Black (Reuters)</td>\n",
       "      <td>Reuters - Short-sellers, Wall Street's dwindli...</td>\n",
       "    </tr>\n",
       "    <tr>\n",
       "      <th>1</th>\n",
       "      <td>3</td>\n",
       "      <td>Carlyle Looks Toward Commercial Aerospace (Reu...</td>\n",
       "      <td>Reuters - Private investment firm Carlyle Grou...</td>\n",
       "    </tr>\n",
       "    <tr>\n",
       "      <th>2</th>\n",
       "      <td>3</td>\n",
       "      <td>Oil and Economy Cloud Stocks' Outlook (Reuters)</td>\n",
       "      <td>Reuters - Soaring crude prices plus worries\\ab...</td>\n",
       "    </tr>\n",
       "    <tr>\n",
       "      <th>3</th>\n",
       "      <td>3</td>\n",
       "      <td>Iraq Halts Oil Exports from Main Southern Pipe...</td>\n",
       "      <td>Reuters - Authorities have halted oil export\\f...</td>\n",
       "    </tr>\n",
       "    <tr>\n",
       "      <th>4</th>\n",
       "      <td>3</td>\n",
       "      <td>Oil prices soar to all-time record, posing new...</td>\n",
       "      <td>AFP - Tearaway world oil prices, toppling reco...</td>\n",
       "    </tr>\n",
       "  </tbody>\n",
       "</table>\n",
       "</div>"
      ]
     },
     "execution_count": 5,
     "metadata": {},
     "output_type": "execute_result"
    }
   ],
   "execution_count": 5
  },
  {
   "metadata": {
    "ExecuteTime": {
     "end_time": "2025-09-01T21:10:38.971886Z",
     "start_time": "2025-09-01T21:10:38.967343Z"
    }
   },
   "cell_type": "code",
   "source": "df.shape",
   "id": "2b3cfa52945ebfa0",
   "outputs": [
    {
     "data": {
      "text/plain": [
       "(120000, 3)"
      ]
     },
     "execution_count": 6,
     "metadata": {},
     "output_type": "execute_result"
    }
   ],
   "execution_count": 6
  },
  {
   "metadata": {},
   "cell_type": "markdown",
   "source": "[!] &nbsp; *Note.* &nbsp;&nbsp;&nbsp;&nbsp;&nbsp;&nbsp;&nbsp;&nbsp; We have 120 000 tuples or a DataFrame with 120 000 rows and 3 columns for `Class Index `, `Title`, and `Description`.",
   "id": "61d6f2157d3e0f1d"
  },
  {
   "metadata": {
    "ExecuteTime": {
     "end_time": "2025-09-01T21:10:40.542080Z",
     "start_time": "2025-09-01T21:10:40.519873Z"
    }
   },
   "cell_type": "code",
   "source": "df.info()",
   "id": "7651dd176f25a84e",
   "outputs": [
    {
     "name": "stdout",
     "output_type": "stream",
     "text": [
      "<class 'pandas.core.frame.DataFrame'>\n",
      "RangeIndex: 120000 entries, 0 to 119999\n",
      "Data columns (total 3 columns):\n",
      " #   Column       Non-Null Count   Dtype \n",
      "---  ------       --------------   ----- \n",
      " 0   Class Index  120000 non-null  int64 \n",
      " 1   Title        120000 non-null  object\n",
      " 2   Description  120000 non-null  object\n",
      "dtypes: int64(1), object(2)\n",
      "memory usage: 2.7+ MB\n"
     ]
    }
   ],
   "execution_count": 7
  },
  {
   "metadata": {},
   "cell_type": "markdown",
   "source": "Then we do not have any missing values (all tuples have max info).",
   "id": "fc57b9fd3e55bf0f"
  },
  {
   "metadata": {
    "ExecuteTime": {
     "end_time": "2025-09-01T21:12:00.106984Z",
     "start_time": "2025-09-01T21:12:00.101963Z"
    }
   },
   "cell_type": "code",
   "source": [
    "import seaborn as sns\n",
    "import matplotlib.pyplot as plt\n",
    "\n",
    "# sns.countplot(df['Class Index'])\n",
    "# plt.xlabel('Class')                 # NOTE: DO NOT run again (takes forever)"
   ],
   "id": "2aaab115038bb2f1",
   "outputs": [],
   "execution_count": 17
  },
  {
   "metadata": {},
   "cell_type": "markdown",
   "source": "Then also notice that we do not have a class imbalance (equal representation in data)",
   "id": "53dde4a8b1340432"
  },
  {
   "metadata": {},
   "cell_type": "markdown",
   "source": "### Data Preprocessing:",
   "id": "4cd48134e54c9289"
  },
  {
   "metadata": {
    "ExecuteTime": {
     "end_time": "2025-09-01T21:10:45.027092Z",
     "start_time": "2025-09-01T21:10:45.022809Z"
    }
   },
   "cell_type": "code",
   "source": "PRE_TRAINED_MODEL_NAME = 'bert-base-cased'",
   "id": "e0a51359eba2f7e0",
   "outputs": [],
   "execution_count": 8
  },
  {
   "metadata": {},
   "cell_type": "markdown",
   "source": "Here, `bert-base-cased` refers to the base **BERT** model trained on *cased* (upper and lowercase texts) where as `bert-base-uncased` refers to the base BERT model trained on only lowercase texts. The cased version is recommended.",
   "id": "33cab8759988cfa"
  },
  {
   "metadata": {
    "ExecuteTime": {
     "end_time": "2025-09-01T21:10:48.812561Z",
     "start_time": "2025-09-01T21:10:46.952646Z"
    }
   },
   "cell_type": "code",
   "source": [
    "from transformers import BertTokenizer\n",
    "\n",
    "tokenizer = BertTokenizer.from_pretrained(PRE_TRAINED_MODEL_NAME)\n",
    "\n",
    "sample_txt = 'I am excited for this semester at the University of Florida. Go Gators!'\n",
    "\n",
    "tokens = tokenizer.tokenize(sample_txt)\n",
    "token_ids = tokenizer.convert_tokens_to_ids(tokens)\n",
    "\n",
    "print(f\"Sentence:  {sample_txt}\")\n",
    "print(f\"Tokens:    {tokens}\")\n",
    "print(f\"Token IDS: {token_ids}\")"
   ],
   "id": "290bd641285b14c6",
   "outputs": [
    {
     "name": "stdout",
     "output_type": "stream",
     "text": [
      "Sentence:  I am excited for this semester at the University of Florida. Go Gators!\n",
      "Tokens:    ['I', 'am', 'excited', 'for', 'this', 'semester', 'at', 'the', 'University', 'of', 'Florida', '.', 'Go', 'G', '##ators', '!']\n",
      "Token IDS: [146, 1821, 7215, 1111, 1142, 14594, 1120, 1103, 1239, 1104, 2631, 119, 3414, 144, 11664, 106]\n"
     ]
    }
   ],
   "execution_count": 9
  },
  {
   "metadata": {},
   "cell_type": "markdown",
   "source": "*Special Tokens*",
   "id": "16fafa6812a989c8"
  },
  {
   "metadata": {
    "ExecuteTime": {
     "end_time": "2025-09-01T21:10:50.437625Z",
     "start_time": "2025-09-01T21:10:50.432364Z"
    }
   },
   "cell_type": "code",
   "source": "tokenizer.sep_token, tokenizer.sep_token_id",
   "id": "99132dd2b752764d",
   "outputs": [
    {
     "data": {
      "text/plain": [
       "('[SEP]', 102)"
      ]
     },
     "execution_count": 10,
     "metadata": {},
     "output_type": "execute_result"
    }
   ],
   "execution_count": 10
  },
  {
   "metadata": {},
   "cell_type": "markdown",
   "source": "&nbsp;&nbsp;&nbsp;&nbsp;&rarr; Marker for ending of a sentence.",
   "id": "8503ab9b89db1d69"
  },
  {
   "metadata": {
    "ExecuteTime": {
     "end_time": "2025-09-01T17:20:57.162499Z",
     "start_time": "2025-09-01T17:20:57.158336Z"
    }
   },
   "cell_type": "code",
   "source": "tokenizer.cls_token, tokenizer.cls_token_id",
   "id": "4a30d5b66eea092",
   "outputs": [
    {
     "data": {
      "text/plain": [
       "('[CLS]', 101)"
      ]
     },
     "execution_count": 9,
     "metadata": {},
     "output_type": "execute_result"
    }
   ],
   "execution_count": 9
  },
  {
   "metadata": {},
   "cell_type": "markdown",
   "source": "&nbsp;&nbsp;&nbsp;&nbsp;&rarr; Marker for classification added to the start of a sentence.",
   "id": "85b546fe6532b097"
  },
  {
   "metadata": {
    "ExecuteTime": {
     "end_time": "2025-09-01T17:20:57.183227Z",
     "start_time": "2025-09-01T17:20:57.179963Z"
    }
   },
   "cell_type": "code",
   "source": "tokenizer.pad_token, tokenizer.pad_token_id",
   "id": "2216b2fe73563f8f",
   "outputs": [
    {
     "data": {
      "text/plain": [
       "('[PAD]', 0)"
      ]
     },
     "execution_count": 10,
     "metadata": {},
     "output_type": "execute_result"
    }
   ],
   "execution_count": 10
  },
  {
   "metadata": {},
   "cell_type": "markdown",
   "source": "&nbsp;&nbsp;&nbsp;&nbsp;&rarr; Padding token.",
   "id": "70e07300b002b756"
  },
  {
   "metadata": {
    "ExecuteTime": {
     "end_time": "2025-09-01T17:20:57.202640Z",
     "start_time": "2025-09-01T17:20:57.198345Z"
    }
   },
   "cell_type": "code",
   "source": "tokenizer.unk_token, tokenizer.unk_token_id",
   "id": "6d85856c5688053f",
   "outputs": [
    {
     "data": {
      "text/plain": [
       "('[UNK]', 100)"
      ]
     },
     "execution_count": 11,
     "metadata": {},
     "output_type": "execute_result"
    }
   ],
   "execution_count": 11
  },
  {
   "metadata": {},
   "cell_type": "markdown",
   "source": "&nbsp;&nbsp;&nbsp;&nbsp;&rarr; Unknown token (word or subword not present in `bert-base-cased` original training dataset).",
   "id": "d252228cf3a3c987"
  },
  {
   "metadata": {
    "ExecuteTime": {
     "end_time": "2025-09-01T21:10:54.236154Z",
     "start_time": "2025-09-01T21:10:54.219570Z"
    }
   },
   "cell_type": "code",
   "source": [
    "encoding = tokenizer.encode_plus(\n",
    "    sample_txt,\n",
    "    max_length=32,\n",
    "    add_special_tokens=True,    # referring to adding '[CLS]' and '[SEP]'\n",
    "    return_token_type_ids=False,\n",
    "    padding='max_length',\n",
    "    return_attention_mask=True,\n",
    "    return_tensors='pt',         # return PyTorch tensors\n",
    ")\n",
    "\n",
    "encoding.keys()\n",
    "\n",
    "# dict_keys(['input_ids', 'attention_mask'])"
   ],
   "id": "6d0c855f14b96d35",
   "outputs": [
    {
     "data": {
      "text/plain": [
       "KeysView({'input_ids': tensor([[  101,   146,  1821,  7215,  1111,  1142, 14594,  1120,  1103,  1239,\n",
       "          1104,  2631,   119,  3414,   144, 11664,   106,   102,     0,     0,\n",
       "             0,     0,     0,     0,     0,     0,     0,     0,     0,     0,\n",
       "             0,     0]]), 'attention_mask': tensor([[1, 1, 1, 1, 1, 1, 1, 1, 1, 1, 1, 1, 1, 1, 1, 1, 1, 1, 0, 0, 0, 0, 0, 0,\n",
       "         0, 0, 0, 0, 0, 0, 0, 0]])})"
      ]
     },
     "execution_count": 11,
     "metadata": {},
     "output_type": "execute_result"
    }
   ],
   "execution_count": 11
  },
  {
   "metadata": {},
   "cell_type": "markdown",
   "source": [
    "Notice the presence of *special tokens* after running the `sample_txt` through the `tokenizer` method:\n",
    " + '[CLS]' ~ (101) at the start\n",
    " + '[SEP]' ~ (102) at the end and\n",
    " + '[PAD]' ~ (0) padding indices 17 to 31 with zeros"
   ],
   "id": "9290594bde956d2a"
  },
  {
   "metadata": {},
   "cell_type": "markdown",
   "source": "We have a Tensor storing token ids and padded to a length of 32.",
   "id": "6626f3911e2bfac5"
  },
  {
   "metadata": {
    "ExecuteTime": {
     "end_time": "2025-09-01T21:10:57.361603Z",
     "start_time": "2025-09-01T21:10:57.353486Z"
    }
   },
   "cell_type": "code",
   "source": [
    "print(len(encoding['input_ids'][0]))\n",
    "encoding['input_ids'][0]"
   ],
   "id": "b623407a060c4461",
   "outputs": [
    {
     "name": "stdout",
     "output_type": "stream",
     "text": [
      "32\n"
     ]
    },
    {
     "data": {
      "text/plain": [
       "tensor([  101,   146,  1821,  7215,  1111,  1142, 14594,  1120,  1103,  1239,\n",
       "         1104,  2631,   119,  3414,   144, 11664,   106,   102,     0,     0,\n",
       "            0,     0,     0,     0,     0,     0,     0,     0,     0,     0,\n",
       "            0,     0])"
      ]
     },
     "execution_count": 12,
     "metadata": {},
     "output_type": "execute_result"
    }
   ],
   "execution_count": 12
  },
  {
   "metadata": {},
   "cell_type": "markdown",
   "source": "And we have our attention mask, a binary Tensor used for informing the model which tokens in a sequence should be considered during the **attention mechanism** and which should be ignored.",
   "id": "d5ea5bb9a58fd2d1"
  },
  {
   "metadata": {
    "ExecuteTime": {
     "end_time": "2025-09-01T21:10:59.379542Z",
     "start_time": "2025-09-01T21:10:59.373377Z"
    }
   },
   "cell_type": "code",
   "source": [
    "print(len(encoding['attention_mask'][0]))\n",
    "encoding['attention_mask'][0]"
   ],
   "id": "a068f10bc781b16e",
   "outputs": [
    {
     "name": "stdout",
     "output_type": "stream",
     "text": [
      "32\n"
     ]
    },
    {
     "data": {
      "text/plain": [
       "tensor([1, 1, 1, 1, 1, 1, 1, 1, 1, 1, 1, 1, 1, 1, 1, 1, 1, 1, 0, 0, 0, 0, 0, 0,\n",
       "        0, 0, 0, 0, 0, 0, 0, 0])"
      ]
     },
     "execution_count": 13,
     "metadata": {},
     "output_type": "execute_result"
    }
   ],
   "execution_count": 13
  },
  {
   "metadata": {},
   "cell_type": "markdown",
   "source": "Inversing tokenization (text -> token ids), we return to our original text-form sequence of tokens.",
   "id": "3180810ef76d864d"
  },
  {
   "metadata": {
    "ExecuteTime": {
     "end_time": "2025-09-01T21:11:01.371361Z",
     "start_time": "2025-09-01T21:11:01.363960Z"
    }
   },
   "cell_type": "code",
   "source": "tokenizer.convert_ids_to_tokens(encoding['input_ids'][0])",
   "id": "23f9f9894f2eb1f2",
   "outputs": [
    {
     "data": {
      "text/plain": [
       "['[CLS]',\n",
       " 'I',\n",
       " 'am',\n",
       " 'excited',\n",
       " 'for',\n",
       " 'this',\n",
       " 'semester',\n",
       " 'at',\n",
       " 'the',\n",
       " 'University',\n",
       " 'of',\n",
       " 'Florida',\n",
       " '.',\n",
       " 'Go',\n",
       " 'G',\n",
       " '##ators',\n",
       " '!',\n",
       " '[SEP]',\n",
       " '[PAD]',\n",
       " '[PAD]',\n",
       " '[PAD]',\n",
       " '[PAD]',\n",
       " '[PAD]',\n",
       " '[PAD]',\n",
       " '[PAD]',\n",
       " '[PAD]',\n",
       " '[PAD]',\n",
       " '[PAD]',\n",
       " '[PAD]',\n",
       " '[PAD]',\n",
       " '[PAD]',\n",
       " '[PAD]']"
      ]
     },
     "execution_count": 14,
     "metadata": {},
     "output_type": "execute_result"
    }
   ],
   "execution_count": 14
  },
  {
   "metadata": {},
   "cell_type": "markdown",
   "source": "*Choosing Sequence Length*",
   "id": "1dd4b996094a78e5"
  },
  {
   "metadata": {},
   "cell_type": "markdown",
   "source": "Here, `token_lens` is used to store the ordered lengths of descriptions from our training data.",
   "id": "1ae55ddfdf27e8fb"
  },
  {
   "metadata": {
    "ExecuteTime": {
     "end_time": "2025-09-01T21:11:44.440851Z",
     "start_time": "2025-09-01T21:11:06.937525Z"
    }
   },
   "cell_type": "code",
   "source": [
    "token_lens = []\n",
    "\n",
    "for txt in df['Description']:\n",
    "    tokens = tokenizer.encode(txt, max_length=512, truncation=True)\n",
    "    token_lens.append(len(tokens))"
   ],
   "id": "1bd096da2832adb7",
   "outputs": [],
   "execution_count": 15
  },
  {
   "metadata": {},
   "cell_type": "markdown",
   "source": "Plotting the distribution,",
   "id": "522ab604a3b48e7b"
  },
  {
   "metadata": {
    "ExecuteTime": {
     "end_time": "2025-09-01T21:12:21.662608Z",
     "start_time": "2025-09-01T21:12:21.182859Z"
    }
   },
   "cell_type": "code",
   "source": [
    "sns.displot(token_lens)\n",
    "plt.xlim([0, 275])\n",
    "plt.xlabel('Token count')"
   ],
   "id": "f8c2aeaa3fd15cd0",
   "outputs": [
    {
     "data": {
      "text/plain": [
       "Text(0.5, 9.444444444444438, 'Token count')"
      ]
     },
     "execution_count": 18,
     "metadata": {},
     "output_type": "execute_result"
    },
    {
     "data": {
      "text/plain": [
       "<Figure size 500x500 with 1 Axes>"
      ],
      "image/png": "[encoded data removed]"
     },
     "metadata": {},
     "output_type": "display_data"
    }
   ],
   "execution_count": 18
  },
  {
   "metadata": {},
   "cell_type": "markdown",
   "source": "We notice that `Description`s are between 40 and 50 tokens on average and upwards of 150 tokens captures nearly all `Description`s. Therefore we choose a `MAX_LEN` of 150 to balance accuracy and efficiency.",
   "id": "bec7a8a502e96494"
  },
  {
   "metadata": {
    "ExecuteTime": {
     "end_time": "2025-09-01T21:12:24.388221Z",
     "start_time": "2025-09-01T21:12:24.380815Z"
    }
   },
   "cell_type": "code",
   "source": "MAX_LEN = 150",
   "id": "566f8246ccbd7fa7",
   "outputs": [],
   "execution_count": 19
  },
  {
   "metadata": {},
   "cell_type": "markdown",
   "source": "*Creating custom Dataset class*",
   "id": "f7805ddb4f170a98"
  },
  {
   "metadata": {
    "ExecuteTime": {
     "end_time": "2025-09-01T21:12:30.869004Z",
     "start_time": "2025-09-01T21:12:30.857400Z"
    }
   },
   "cell_type": "code",
   "source": [
    "from torch.utils.data import Dataset\n",
    "\n",
    "class NewsArticlesDataset(Dataset):\n",
    "\n",
    "    def __init__(self, descriptions, targets, tokenizer, max_len):\n",
    "        self.descriptions = descriptions    # array of inputs\n",
    "        self.targets = targets              # array of outputs\n",
    "        self.tokenizer = tokenizer\n",
    "        self.max_len = max_len\n",
    "\n",
    "    def __len__(self):\n",
    "        return len(self.descriptions)\n",
    "\n",
    "    def __getitem__(self, item):\n",
    "        description = str(self.descriptions[item])\n",
    "        target = self.targets[item]\n",
    "\n",
    "        encoding = self.tokenizer.encode_plus(\n",
    "            description,\n",
    "            add_special_tokens=True,\n",
    "            max_length=self.max_len,\n",
    "            return_token_type_ids=False,\n",
    "            padding='max_length',\n",
    "            truncation=True,\n",
    "            return_attention_mask=True,\n",
    "            return_tensors='pt',\n",
    "        )\n",
    "\n",
    "        return {\n",
    "            'description_text': description,\n",
    "            'input_ids': encoding['input_ids'].flatten(),\n",
    "            'attention_mask': encoding ['attention_mask'].flatten(),\n",
    "            'targets': torch.tensor(target, dtype=torch.long)\n",
    "        }"
   ],
   "id": "d599e8a992c046e3",
   "outputs": [],
   "execution_count": 21
  },
  {
   "metadata": {},
   "cell_type": "markdown",
   "source": [
    "[!] &nbsp; *Note.* &nbsp;&nbsp;&nbsp;&nbsp;&nbsp;&nbsp;&nbsp;&nbsp; Since our `NewsArticleDataset` class inherits from the `Dataset` class of `torch.utils.data`, note that this class requires the following methods:\n",
    "+ `__len__(self)`: this method returns the total number of samples in the corresponding dataset.\n",
    "+ `__getitem__(self, item)`: this method enables indexing into the corresponding dataset using `item` parameter, allowing for retrieval of specific samples and their corresponding label (or target)."
   ],
   "id": "ec0f568c11d10335"
  },
  {
   "metadata": {},
   "cell_type": "markdown",
   "source": "*Splitting the data*",
   "id": "b5765c6cc4fe2adb"
  },
  {
   "metadata": {
    "ExecuteTime": {
     "end_time": "2025-09-01T17:21:34.259516Z",
     "start_time": "2025-09-01T17:21:34.241146Z"
    }
   },
   "cell_type": "code",
   "source": [
    "from sklearn.model_selection import train_test_split\n",
    "\n",
    "# df_train, df_test = train_test_split(\n",
    "#     df,\n",
    "#     test_size=0.1,\n",
    "#     random_state=RANDOM_SEED\n",
    "# )\n",
    "#\n",
    "# df_val, df_test = train_test_split(\n",
    "#     df_test,\n",
    "#     test_size=0.5,\n",
    "#     random_state=RANDOM_SEED\n",
    "# )"
   ],
   "id": "48027a9e01c779f4",
   "outputs": [],
   "execution_count": 20
  },
  {
   "metadata": {},
   "cell_type": "markdown",
   "source": "However, our datasets have been (conveniently) split into `train.csv` and `test.csv` by the file provider.",
   "id": "2c9e3794b0eb86fc"
  },
  {
   "metadata": {
    "ExecuteTime": {
     "end_time": "2025-09-01T21:13:14.935967Z",
     "start_time": "2025-09-01T21:13:14.613708Z"
    }
   },
   "cell_type": "code",
   "source": [
    "import pandas as pd\n",
    "\n",
    "df_train = pd.read_csv('../data/raw/train.csv')\n",
    "df_test = pd.read_csv('../data/raw/test.csv')\n",
    "\n",
    "train_rows = len(df_train)\n",
    "test_rows = len(df_test)\n",
    "total_rows = train_rows + test_rows\n",
    "\n",
    "train_ratio = train_rows / total_rows\n",
    "test_ratio = test_rows / total_rows\n",
    "\n",
    "print(f\"Train-Test data split: {train_ratio * 100}%, {test_ratio * 100}%\")"
   ],
   "id": "be5176a894eec1fb",
   "outputs": [
    {
     "name": "stdout",
     "output_type": "stream",
     "text": [
      "Train-Test data split: 94.04388714733543%, 5.956112852664576%\n"
     ]
    }
   ],
   "execution_count": 24
  },
  {
   "metadata": {
    "ExecuteTime": {
     "end_time": "2025-09-01T21:13:16.882760Z",
     "start_time": "2025-09-01T21:13:16.866432Z"
    }
   },
   "cell_type": "code",
   "source": [
    "from sklearn.model_selection import train_test_split\n",
    "\n",
    "# extract ~ 5% of training data for validation (for fine-tuning hyperparams)\n",
    "df_train, df_val = train_test_split(\n",
    "    df_train,\n",
    "    test_size=0.05,\n",
    "    random_state=RANDOM_SEED,\n",
    ")\n",
    "\n",
    "train_rows = len(df_train)\n",
    "val_rows = len(df_val)\n",
    "test_rows = len(df_test)\n",
    "\n",
    "total_rows = train_rows + val_rows + test_rows\n",
    "\n",
    "train_ratio = train_rows / total_rows\n",
    "val_ratio = val_rows / total_rows\n",
    "test_ratio = test_rows / total_rows\n",
    "\n",
    "print(f\"Train-Test data split: {train_ratio * 100}%, {val_ratio * 100}%, {test_ratio * 100}%\")"
   ],
   "id": "c60728ede9f77bca",
   "outputs": [
    {
     "name": "stdout",
     "output_type": "stream",
     "text": [
      "Train-Test data split: 89.34169278996865%, 4.702194357366771%, 5.956112852664576%\n"
     ]
    }
   ],
   "execution_count": 25
  },
  {
   "metadata": {},
   "cell_type": "markdown",
   "source": [
    "*Recall*. &nbsp;&nbsp;&nbsp;&nbsp; ML Process can be broken in the following stages:\n",
    "1. Training (where model learns patterns, relationships, and parameters from training data)\n",
    "2. Validation (used for fine-tuning of hyperparameters and selecting best performing model architecture)\n",
    "3. Testing (dataset independent of training and validation datasets; purpose of providing unbiased evaluation of the final selected model's performance on \"unknown\" data, a simulation for real-world use)"
   ],
   "id": "945b500b3063a370"
  },
  {
   "metadata": {},
   "cell_type": "markdown",
   "source": "*Data Loaders*",
   "id": "a199d70caa5e6fc2"
  },
  {
   "metadata": {
    "ExecuteTime": {
     "end_time": "2025-09-01T21:13:19.446239Z",
     "start_time": "2025-09-01T21:13:19.441597Z"
    }
   },
   "cell_type": "code",
   "source": [
    "from torch.utils.data import DataLoader\n",
    "\n",
    "def create_data_loader(df, tokenizer, max_len, batch_size):\n",
    "    ds = NewsArticlesDataset(\n",
    "        descriptions=df['Description'].to_numpy(),\n",
    "        targets=df['Class Index'].to_numpy(),\n",
    "        tokenizer=tokenizer,\n",
    "        max_len=max_len\n",
    "    )\n",
    "\n",
    "    return DataLoader(\n",
    "        ds,\n",
    "        batch_size=batch_size,\n",
    "        num_workers=0               # NOTE: Causes errors on Windows unless zero\n",
    "    )"
   ],
   "id": "79a44d8861f451e4",
   "outputs": [],
   "execution_count": 26
  },
  {
   "metadata": {},
   "cell_type": "markdown",
   "source": "[!] &nbsp; *Note.* &nbsp;&nbsp;&nbsp;&nbsp;&nbsp;&nbsp;&nbsp;&nbsp; PyTorch's `DataLoader` module has a well-known issue where the `num_workers` parameter must be set to zero on Windows devices, otherwise breaking errors ensue.",
   "id": "868f9426f949445d"
  },
  {
   "metadata": {
    "ExecuteTime": {
     "end_time": "2025-09-01T21:13:21.634108Z",
     "start_time": "2025-09-01T21:13:21.630656Z"
    }
   },
   "cell_type": "code",
   "source": [
    "BATCH_SIZE = 16\n",
    "\n",
    "train_data_loader = create_data_loader(df_train, tokenizer, MAX_LEN, BATCH_SIZE)\n",
    "val_data_loader = create_data_loader(df_val, tokenizer, MAX_LEN, BATCH_SIZE)\n",
    "test_data_loader = create_data_loader(df_test, tokenizer, MAX_LEN, BATCH_SIZE)"
   ],
   "id": "7e4ad114e123adc0",
   "outputs": [],
   "execution_count": 27
  },
  {
   "metadata": {},
   "cell_type": "markdown",
   "source": "Taking a closer look at an example batch from our training data loader,",
   "id": "28075771cb050407"
  },
  {
   "metadata": {
    "ExecuteTime": {
     "end_time": "2025-09-01T21:13:23.203126Z",
     "start_time": "2025-09-01T21:13:23.178999Z"
    }
   },
   "cell_type": "code",
   "source": [
    "data = next(iter(train_data_loader))\n",
    "\n",
    "print(\"Keys in batch:\", data.keys())\n",
    "print(\"Input IDs shape:\", data['input_ids'].shape)\n",
    "print(\"Attention mask shape:\", data['attention_mask'].shape)\n",
    "print(\"Targets shape:\", data['targets'].shape)"
   ],
   "id": "781afa1e21a9e2a9",
   "outputs": [
    {
     "name": "stdout",
     "output_type": "stream",
     "text": [
      "Keys in batch: dict_keys(['description_text', 'input_ids', 'attention_mask', 'targets'])\n",
      "Input IDs shape: torch.Size([16, 150])\n",
      "Attention mask shape: torch.Size([16, 150])\n",
      "Targets shape: torch.Size([16])\n"
     ]
    }
   ],
   "execution_count": 28
  },
  {
   "metadata": {},
   "cell_type": "markdown",
   "source": "**Topic Classifier Class**",
   "id": "d1531cea7b7e8add"
  },
  {
   "metadata": {
    "ExecuteTime": {
     "end_time": "2025-09-01T21:28:01.301547Z",
     "start_time": "2025-09-01T21:28:00.834027Z"
    }
   },
   "cell_type": "code",
   "source": [
    "from transformers import BertModel\n",
    "\n",
    "bert_model = BertModel.from_pretrained(PRE_TRAINED_MODEL_NAME)"
   ],
   "id": "2b81148adc8d7b45",
   "outputs": [],
   "execution_count": 44
  },
  {
   "metadata": {},
   "cell_type": "markdown",
   "source": "*Recall*. &nbsp;&nbsp;&nbsp;&nbsp; `PRE_TRAINED_MODEL_NAME` corresponds with `bert-base-cased`.",
   "id": "a50416a95d170c3"
  },
  {
   "metadata": {
    "ExecuteTime": {
     "end_time": "2025-09-01T21:35:56.827933Z",
     "start_time": "2025-09-01T21:35:56.653350Z"
    }
   },
   "cell_type": "code",
   "source": [
    "last_hidden_state, pooled_output = bert_model(\n",
    "    input_ids=encoding['input_ids'],\n",
    "    attention_mask=encoding['attention_mask'],\n",
    "    return_dict=False                           # used to return a tuple\n",
    ")"
   ],
   "id": "a015c64a9f1a862",
   "outputs": [],
   "execution_count": 53
  },
  {
   "metadata": {},
   "cell_type": "markdown",
   "source": "Here, `last_hidden_state` is a sqeuence of hidden states of the last layer of the model. The `pooled_output` is obtained by applying the *BertPooler* on `last_hidden_state`.",
   "id": "1ec6e5e6c5eb2ed7"
  },
  {
   "metadata": {
    "ExecuteTime": {
     "end_time": "2025-09-01T21:35:58.940902Z",
     "start_time": "2025-09-01T21:35:58.934247Z"
    }
   },
   "cell_type": "code",
   "source": "last_hidden_state.shape",
   "id": "c31de479b5c504a4",
   "outputs": [
    {
     "data": {
      "text/plain": [
       "torch.Size([1, 32, 768])"
      ]
     },
     "execution_count": 54,
     "metadata": {},
     "output_type": "execute_result"
    }
   ],
   "execution_count": 54
  },
  {
   "metadata": {},
   "cell_type": "markdown",
   "source": "That is we have a tensor 2D (32 x 768) tensor storing 768 hidden states for each of the 32 tokens (limited to 32 previously). We can verify the number of hidden states or hidden units in the feedforward networks with the following:",
   "id": "45ad1a2fefc034bb"
  },
  {
   "metadata": {
    "ExecuteTime": {
     "end_time": "2025-09-01T21:40:40.958614Z",
     "start_time": "2025-09-01T21:40:40.954138Z"
    }
   },
   "cell_type": "code",
   "source": "bert_model.config.hidden_size",
   "id": "796dba89ebf7018",
   "outputs": [
    {
     "data": {
      "text/plain": [
       "768"
      ]
     },
     "execution_count": 57,
     "metadata": {},
     "output_type": "execute_result"
    }
   ],
   "execution_count": 57
  },
  {
   "metadata": {},
   "cell_type": "markdown",
   "source": "Lastly, `pooled_output` acts as a summary of the content after passing through the **BERT** model.",
   "id": "5bb78c71a86e43e9"
  },
  {
   "metadata": {
    "ExecuteTime": {
     "end_time": "2025-09-01T21:36:04.605782Z",
     "start_time": "2025-09-01T21:36:04.601572Z"
    }
   },
   "cell_type": "code",
   "outputs": [
    {
     "data": {
      "text/plain": [
       "torch.Size([1, 768])"
      ]
     },
     "execution_count": 56,
     "metadata": {},
     "output_type": "execute_result"
    }
   ],
   "execution_count": 56,
   "source": "pooled_output.shape",
   "id": "1e04abe9760d5c21"
  },
  {
   "metadata": {},
   "cell_type": "markdown",
   "source": "*Classifier*",
   "id": "dae5fdec31998a80"
  },
  {
   "metadata": {
    "ExecuteTime": {
     "end_time": "2025-09-01T22:25:11.289821Z",
     "start_time": "2025-09-01T22:25:11.280004Z"
    }
   },
   "cell_type": "code",
   "source": [
    "from torch import nn\n",
    "\n",
    "class TopicClassifier(nn.Module):\n",
    "\n",
    "    def __init__(self, n_classes):\n",
    "        super(TopicClassifier, self).__init__()\n",
    "        self.bert = BertModel.from_pretrained(PRE_TRAINED_MODEL_NAME)\n",
    "        self.drop = nn.Dropout(p=0.3) # probability of dropping\n",
    "        self.out = nn.Linear(self.bert.config.hidden_size, n_classes)\n",
    "\n",
    "    def forward(self, input_ids, attention_mask):\n",
    "        _, pooled_output = self.bert(\n",
    "            input_ids=input_ids,\n",
    "            attention_mask=attention_mask,\n",
    "            return_dict=False\n",
    "        )\n",
    "\n",
    "        output = self.drop(pooled_output)\n",
    "\n",
    "        return self.out(output)"
   ],
   "id": "1802f98fb21f6348",
   "outputs": [],
   "execution_count": 60
  },
  {
   "metadata": {},
   "cell_type": "markdown",
   "source": [
    "This class is compromised of two components:\n",
    "1. `def __init__(self, n_classes)`:\n",
    "    + `self.bert` represents our pretrained model from which we base the transfer learning off of. BERT provides:\n",
    "        + 12 transformer layers (`bert-base`)\n",
    "        + 768-dimensional representations\n",
    "        + pre-learned linguistic patterns, grammars and some world knowledge\n",
    "    + `self.drop` represents the *dropout layer* which prevents overfitting by randomly dropping 30% (since `p=0.3`) of neurons (that is randomly zeroing `pooled_output` values) during training.\n",
    "        + *Note*. &nbsp;&nbsp; process of randomly dropping neurons during training is referred to as **regularization**.\n",
    "    + `self.out` represents the *classification head* providing a single linear layer with input dimension of 768 (corresponding to **BERT**'s hidden size) and an output dimension corresponding to `n_classes` to classified into.\n",
    "2. `def forward(self, input_ids, attention_mask)`:\n",
    "    + takes in a sequence of token ids and an attention mask for a given batch of texts\n",
    "    + processes through BERT (12 transformer layers)\n",
    "    + returns:\n",
    "        + `last_hidden_layer` of form [batch, seq_len, 768] and corresponding to all token representations\n",
    "        + `pooled_output` of the form [batch, 768], this is the [CLS] token with an additional pooling layer (linear layer + tanh used to further refine given representation).\n",
    "    + *Note*. &nbsp;&nbsp; The [CLS] token is specifically designed for sentence-level tasks, so it makes sense to use pooled_output.\n",
    "    + Classification here takes on a linear transformation:\n",
    "        + [batch, 768] -> [batch, n_classes]"
   ],
   "id": "18f7c48b93bc68ab"
  },
  {
   "metadata": {},
   "cell_type": "markdown",
   "source": "*Creating an Instance of the Model*",
   "id": "b70a82c25ccab755"
  },
  {
   "metadata": {},
   "cell_type": "markdown",
   "source": "First, we'll move an example batch of training data to the GPU.",
   "id": "61951e4eb7b88dae"
  },
  {
   "metadata": {
    "ExecuteTime": {
     "end_time": "2025-09-01T22:25:16.963944Z",
     "start_time": "2025-09-01T22:25:14.495757Z"
    }
   },
   "cell_type": "code",
   "outputs": [],
   "execution_count": 61,
   "source": [
    "model = TopicClassifier(4) # for topics of \"sports\", \"business\", \"sci\"/\"tech\" and                           # \"world\"\n",
    "model = model.to(device)"
   ],
   "id": "ce2428a5b0f4bd20"
  },
  {
   "metadata": {
    "ExecuteTime": {
     "end_time": "2025-09-01T22:25:24.231467Z",
     "start_time": "2025-09-01T22:25:24.223226Z"
    }
   },
   "cell_type": "code",
   "outputs": [
    {
     "name": "stdout",
     "output_type": "stream",
     "text": [
      "Input IDs shape: torch.Size([16, 150])\n",
      "Attention mask shape: torch.Size([16, 150])\n"
     ]
    }
   ],
   "execution_count": 62,
   "source": [
    "input_ids = data['input_ids'].to(device)\n",
    "attention_mask = data['attention_mask'].to(device)\n",
    "\n",
    "print(f\"Input IDs shape: {input_ids.shape}\")\n",
    "print(f\"Attention mask shape: {attention_mask.shape}\")"
   ],
   "id": "ce194e5af5d455f2"
  },
  {
   "metadata": {},
   "cell_type": "markdown",
   "source": "To get the predicted probabilities from our trained model, we apply the `softmax` function to the outputs:",
   "id": "bc3878d42230af38"
  },
  {
   "metadata": {
    "ExecuteTime": {
     "end_time": "2025-09-01T22:35:23.163532Z",
     "start_time": "2025-09-01T22:35:21.235064Z"
    }
   },
   "cell_type": "code",
   "source": [
    "import torch.nn.functional as F\n",
    "\n",
    "F.softmax(model(input_ids, attention_mask), dim=1)"
   ],
   "id": "93fd93ee2c81139b",
   "outputs": [
    {
     "data": {
      "text/plain": [
       "tensor([[0.1536, 0.1790, 0.4545, 0.2129],\n",
       "        [0.1384, 0.2446, 0.4745, 0.1425],\n",
       "        [0.1866, 0.2935, 0.3685, 0.1514],\n",
       "        [0.1627, 0.1833, 0.4987, 0.1552],\n",
       "        [0.2639, 0.2690, 0.2722, 0.1949],\n",
       "        [0.2753, 0.2242, 0.2888, 0.2117],\n",
       "        [0.1965, 0.2791, 0.3331, 0.1912],\n",
       "        [0.1867, 0.3664, 0.3460, 0.1009],\n",
       "        [0.2660, 0.2497, 0.3773, 0.1069],\n",
       "        [0.1807, 0.2118, 0.3498, 0.2577],\n",
       "        [0.1575, 0.2162, 0.4669, 0.1593],\n",
       "        [0.3834, 0.1795, 0.1928, 0.2443],\n",
       "        [0.2076, 0.3045, 0.4110, 0.0770],\n",
       "        [0.1661, 0.2758, 0.4606, 0.0974],\n",
       "        [0.1583, 0.2599, 0.4293, 0.1525],\n",
       "        [0.2451, 0.2229, 0.3584, 0.1736]], device='cuda:0',\n",
       "       grad_fn=<SoftmaxBackward0>)"
      ]
     },
     "execution_count": 64,
     "metadata": {},
     "output_type": "execute_result"
    }
   ],
   "execution_count": 64
  },
  {
   "metadata": {},
   "cell_type": "markdown",
   "source": "### Training",
   "id": "d5f6783b7254722"
  },
  {
   "metadata": {},
   "cell_type": "code",
   "outputs": [],
   "execution_count": null,
   "source": [
    "from transformers import AdamWeightDecay as Adam, get_linear_schedule_with_warmup\n",
    "\n",
    "EPOCHS = 10\n",
    "\n",
    "optimizer = Adam(model.parameters(), lr=2e-5, correct_bias=False)\n",
    "total_steps = len(train_data_loader) * EPOCHS\n",
    "\n",
    "scheduler = get_linear_schedule_with_warmup(\n",
    "    optimizer,\n",
    "    num_warmup_steps=0,\n",
    "    num_training_steps=total_steps\n",
    ")\n",
    "\n",
    "loss_fn = nn.CrossEntropyLoss().to(device)"
   ],
   "id": "b0b4837b776e0262"
  },
  {
   "metadata": {},
   "cell_type": "markdown",
   "source": "",
   "id": "1f4d04f537fc32a"
  },
  {
   "metadata": {},
   "cell_type": "markdown",
   "source": "",
   "id": "14766ff28d69ce22"
  },
  {
   "metadata": {},
   "cell_type": "code",
   "outputs": [],
   "execution_count": null,
   "source": [
    "def train_epoch(\n",
    "        model,\n",
    "        data_loader,\n",
    "        loss_fn,\n",
    "        optimizer,\n",
    "        device,\n",
    "        scheduler,\n",
    "        n_examples\n",
    "):\n",
    "    # TODO"
   ],
   "id": "4252323ec6d5aba7"
  },
  {
   "metadata": {},
   "cell_type": "markdown",
   "source": "",
   "id": "3661fa40dc2c8c49"
  }
 ],
 "metadata": {
  "kernelspec": {
   "display_name": "Python 3",
   "language": "python",
   "name": "python3"
  },
  "language_info": {
   "codemirror_mode": {
    "name": "ipython",
    "version": 2
   },
   "file_extension": ".py",
   "mimetype": "text/x-python",
   "name": "python",
   "nbconvert_exporter": "python",
   "pygments_lexer": "ipython2",
   "version": "2.7.6"
  }
 },
 "nbformat": 4,
 "nbformat_minor": 5
}
